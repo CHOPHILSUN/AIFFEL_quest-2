{
 "cells": [
  {
   "cell_type": "code",
   "execution_count": null,
   "id": "b9d08507",
   "metadata": {},
   "outputs": [],
   "source": [
    "조건\n",
    "아래 물고기 리스트를 입력값으로 넣었을때 물고기의 움직임을 출력값으로 뱉어내도록 만들어봅시다.\n",
    " 물고기의 움직임을 출력하는 함수 2개(컴프리헨션, 제너레이터)를 만듭니다.\n",
    "컴프리헨션 함수에는 이름, 속도를 조합하고 제너레티어 함수에는 for문과 yield문를 활용합니다.\n",
    "물고기 리스트를 입력받으면, 2개의 함수는 물고기 이름과, 속도를 출력해야 합니다.\n"
   ]
  },
  {
   "cell_type": "code",
   "execution_count": 2,
   "id": "c55ffee1",
   "metadata": {},
   "outputs": [
    {
     "ename": "SyntaxError",
     "evalue": "invalid syntax (2145425530.py, line 1)",
     "output_type": "error",
     "traceback": [
      "\u001b[0;36m  File \u001b[0;32m\"/tmp/ipykernel_32/2145425530.py\"\u001b[0;36m, line \u001b[0;32m1\u001b[0m\n\u001b[0;31m    출력 예시\u001b[0m\n\u001b[0m       ^\u001b[0m\n\u001b[0;31mSyntaxError\u001b[0m\u001b[0;31m:\u001b[0m invalid syntax\n"
     ]
    }
   ],
   "source": [
    "출력 예시\n",
    "===\n",
    "입력값 :\n",
    "\n",
    "# 물고기 리스트 생성\n",
    "fish_list = [\n",
    " {\"이름\": \"Nemo\", \"speed\": 3}, \n",
    "{\"이름\": \"Dory\", \"speed\": 5},\n",
    "] \n",
    "print(\"Using Comprehension:\") show_fish_movement_comprehension(fish_list) \n",
    "print(\"Using Generator:\") show_fish_movement_Generator(fish_list)\n",
    "\n",
    "출력값 :\n",
    "Using Comprehension:\n",
    "Nemo is swimming at 3 m/s\n",
    "Dory is swimming at 5 m/s \n",
    "Using Generator:\n",
    "Nemo is swimming at 3 m/s\n",
    "Dory is swimming at 5 m/s\n"
   ]
  },
  {
   "cell_type": "code",
   "execution_count": 3,
   "id": "b9f3c9c8",
   "metadata": {},
   "outputs": [
    {
     "ename": "IndentationError",
     "evalue": "expected an indented block (1819114492.py, line 11)",
     "output_type": "error",
     "traceback": [
      "\u001b[0;36m  File \u001b[0;32m\"/tmp/ipykernel_32/1819114492.py\"\u001b[0;36m, line \u001b[0;32m11\u001b[0m\n\u001b[0;31m    def show_fish_movement_Generator(fish_list):\u001b[0m\n\u001b[0m    ^\u001b[0m\n\u001b[0;31mIndentationError\u001b[0m\u001b[0;31m:\u001b[0m expected an indented block\n"
     ]
    }
   ],
   "source": [
    "fish_list = [\n",
    " {\"이름\": \"Nemo\", \"speed\": 3}, \n",
    "{\"이름\": \"Dory\", \"speed\": 5},\n",
    "] \n",
    "\n",
    "\n",
    "\n",
    "def show_fish_movement_comprehension(fish_list):\n",
    "    \n",
    "\n",
    "def show_fish_movement_Generator(fish_list):\n",
    "    \n",
    "    \n",
    "print(\"Using Comprehension:\") show_fish_movement_comprehension(fish_list) \n",
    "print(\"Using Generator:\") show_fish_movement_Generator(fish_list)"
   ]
  },
  {
   "cell_type": "code",
   "execution_count": null,
   "id": "afe772b4",
   "metadata": {},
   "outputs": [],
   "source": []
  }
 ],
 "metadata": {
  "kernelspec": {
   "display_name": "Python 3 (ipykernel)",
   "language": "python",
   "name": "python3"
  },
  "language_info": {
   "codemirror_mode": {
    "name": "ipython",
    "version": 3
   },
   "file_extension": ".py",
   "mimetype": "text/x-python",
   "name": "python",
   "nbconvert_exporter": "python",
   "pygments_lexer": "ipython3",
   "version": "3.9.7"
  }
 },
 "nbformat": 4,
 "nbformat_minor": 5
}
